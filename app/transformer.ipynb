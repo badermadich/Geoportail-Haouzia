{
 "cells": [
  {
   "cell_type": "code",
   "execution_count": 3,
   "metadata": {},
   "outputs": [
    {
     "name": "stdout",
     "output_type": "stream",
     "text": [
      "Conversion terminée !\n"
     ]
    }
   ],
   "source": [
    "import geopandas as gpd\n",
    "\n",
    "# Fonction pour convertir les coordonnées\n",
    "def convert_coordinates(geojson_file, output_file):\n",
    "    # Charger le fichier GeoJSON\n",
    "    gdf = gpd.read_file(geojson_file)\n",
    "\n",
    "    # Vérifier si le CRS est déjà défini\n",
    "    if gdf.crs is None:\n",
    "        # Définir le système de référence de la projection d'entrée\n",
    "        gdf.set_crs(epsg=26191, inplace=True)\n",
    "    else:\n",
    "        # Si le CRS est déjà défini, remplacer par le nouveau\n",
    "        gdf.set_crs(epsg=26191, allow_override=True, inplace=True)\n",
    "\n",
    "    # Convertir les coordonnées au système de référence EPSG:4326\n",
    "    gdf = gdf.to_crs(epsg=4326)\n",
    "    \n",
    "    # Sauvegarder le nouveau fichier GeoJSON\n",
    "    gdf.to_file(output_file, driver='GeoJSON')\n",
    "\n",
    "# Convertir ZT1.geojson\n",
    "convert_coordinates('data/ZT1.geojson', 'data/ZT1_converted.geojson')\n",
    "\n",
    "# Convertir ZT2.geojson\n",
    "convert_coordinates('data/ZT2.geojson', 'data/ZT2_converted.geojson')\n",
    "\n",
    "print(\"Conversion terminée !\")\n",
    "\n"
   ]
  }
 ],
 "metadata": {
  "kernelspec": {
   "display_name": "Python 3",
   "language": "python",
   "name": "python3"
  },
  "language_info": {
   "codemirror_mode": {
    "name": "ipython",
    "version": 3
   },
   "file_extension": ".py",
   "mimetype": "text/x-python",
   "name": "python",
   "nbconvert_exporter": "python",
   "pygments_lexer": "ipython3",
   "version": "3.10.1 (tags/v3.10.1:2cd268a, Dec  6 2021, 19:10:37) [MSC v.1929 64 bit (AMD64)]"
  },
  "orig_nbformat": 4,
  "vscode": {
   "interpreter": {
    "hash": "67e0cbc25fa4f5baaacba1240f401bc655b640f8e15cfc935dfee2e63491bdf4"
   }
  }
 },
 "nbformat": 4,
 "nbformat_minor": 2
}
